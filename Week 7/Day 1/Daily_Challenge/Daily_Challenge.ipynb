{
 "cells": [
  {
   "cell_type": "code",
   "execution_count": 1,
   "metadata": {},
   "outputs": [],
   "source": [
    "import numpy as np"
   ]
  },
  {
   "cell_type": "code",
   "execution_count": 12,
   "metadata": {},
   "outputs": [],
   "source": [
    "def list_imp(x,y):\n",
    "    assert x in {i+1 for i in range(50)}\n",
    "    assert y in {i+1 for i in range(40)}\n",
    "    return [[np.random.randint(1,101) for _ in range(x)] for _ in range(y)]"
   ]
  },
  {
   "cell_type": "code",
   "execution_count": 31,
   "metadata": {},
   "outputs": [
    {
     "data": {
      "text/plain": [
       "[[24, 12, 67, 61, 94],\n",
       " [87, 5, 6, 44, 31],\n",
       " [44, 80, 61, 40, 63],\n",
       " [29, 25, 73, 17, 95],\n",
       " [46, 81, 29, 60, 16],\n",
       " [83, 41, 19, 94, 84],\n",
       " [40, 100, 65, 10, 100],\n",
       " [98, 34, 60, 53, 5],\n",
       " [38, 78, 86, 25, 10],\n",
       " [83, 23, 94, 3, 68]]"
      ]
     },
     "execution_count": 31,
     "metadata": {},
     "output_type": "execute_result"
    }
   ],
   "source": [
    "res = list_imp(5,10)\n",
    "res"
   ]
  },
  {
   "cell_type": "code",
   "execution_count": 32,
   "metadata": {},
   "outputs": [
    {
     "data": {
      "text/plain": [
       "[44, 80, 61, 40, 63]"
      ]
     },
     "execution_count": 32,
     "metadata": {},
     "output_type": "execute_result"
    }
   ],
   "source": [
    "res[2]"
   ]
  },
  {
   "cell_type": "code",
   "execution_count": 33,
   "metadata": {},
   "outputs": [
    {
     "data": {
      "text/plain": [
       "[67, 6, 61, 73, 29, 19, 65, 60, 86, 94]"
      ]
     },
     "execution_count": 33,
     "metadata": {},
     "output_type": "execute_result"
    }
   ],
   "source": [
    "[row[2] for row in res]"
   ]
  },
  {
   "cell_type": "code",
   "execution_count": 34,
   "metadata": {},
   "outputs": [
    {
     "data": {
      "text/plain": [
       "[[24, 12, 67, 61, 94],\n",
       " [87, 5, 6, 44, 31],\n",
       " [44, 80, 61, 40, 63],\n",
       " [29, 25, 73, 17, 95],\n",
       " [46, 81, 29, 60, 16],\n",
       " [83, 41, 19, 94, 84],\n",
       " [40, 100, 65, 10, 100],\n",
       " [98, 34, 60, 53, 5],\n",
       " [38, 78, 86, 25, 10],\n",
       " [7, 7, 7, 7, 7]]"
      ]
     },
     "execution_count": 34,
     "metadata": {},
     "output_type": "execute_result"
    }
   ],
   "source": [
    "res[-1] = [7 for _ in res[-1]]\n",
    "res"
   ]
  },
  {
   "cell_type": "code",
   "execution_count": 41,
   "metadata": {},
   "outputs": [
    {
     "data": {
      "text/plain": [
       "[[24, 12, 67, 61, [36, 92, 124, 54, 127, 124, 140, 132, 116, 14]],\n",
       " [87, 5, 6, 44, [36, 92, 124, 54, 127, 124, 140, 132, 116, 14]],\n",
       " [44, 80, 61, 40, [36, 92, 124, 54, 127, 124, 140, 132, 116, 14]],\n",
       " [29, 25, 73, 17, [36, 92, 124, 54, 127, 124, 140, 132, 116, 14]],\n",
       " [46, 81, 29, 60, [36, 92, 124, 54, 127, 124, 140, 132, 116, 14]],\n",
       " [83, 41, 19, 94, [36, 92, 124, 54, 127, 124, 140, 132, 116, 14]],\n",
       " [40, 100, 65, 10, [36, 92, 124, 54, 127, 124, 140, 132, 116, 14]],\n",
       " [98, 34, 60, 53, [36, 92, 124, 54, 127, 124, 140, 132, 116, 14]],\n",
       " [38, 78, 86, 25, [36, 92, 124, 54, 127, 124, 140, 132, 116, 14]],\n",
       " [7, 7, 7, 7, [36, 92, 124, 54, 127, 124, 140, 132, 116, 14]]]"
      ]
     },
     "execution_count": 41,
     "metadata": {},
     "output_type": "execute_result"
    }
   ],
   "source": [
    "for row in res:\n",
    "    row[-1] = [row[0]+row[1] for row in res]\n",
    "    \n",
    "res"
   ]
  },
  {
   "cell_type": "code",
   "execution_count": null,
   "metadata": {},
   "outputs": [],
   "source": []
  }
 ],
 "metadata": {
  "kernelspec": {
   "display_name": "Python 3",
   "language": "python",
   "name": "python3"
  },
  "language_info": {
   "codemirror_mode": {
    "name": "ipython",
    "version": 3
   },
   "file_extension": ".py",
   "mimetype": "text/x-python",
   "name": "python",
   "nbconvert_exporter": "python",
   "pygments_lexer": "ipython3",
   "version": "3.9.0"
  }
 },
 "nbformat": 4,
 "nbformat_minor": 4
}
